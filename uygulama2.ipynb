{
 "cells": [
  {
   "cell_type": "code",
   "execution_count": null,
   "id": "3602fbcb-2fdf-4c74-a86b-138c659c8666",
   "metadata": {},
   "outputs": [],
   "source": [
    "import math\n",
    "\n",
    "def euclideanDistance(point1, point2):\n",
    "    return math.sqrt((point2[0] - point1[0])**2 + (point2[1] - point1[1])**2)\n",
    "\n",
    "def get_points_from_user():\n",
    "    points = []\n",
    "    num_points = int(input(\"Kaç nokta girmek istiyorsunuz? \"))\n",
    "    \n",
    "    for i in range(num_points):\n",
    "        x = float(input(f\"Nokta {i+1} X koordinatını girin: \"))\n",
    "        y = float(input(f\"Nokta {i+1} Y koordinatını girin: \"))\n",
    "        points.append((x, y))\n",
    "        \n",
    "    return points\n",
    "\n",
    "points = get_points_from_user()\n",
    "\n",
    "distances = []\n",
    "\n",
    "for i in range(len(points)):\n",
    "    for j in range(i + 1, len(points)):\n",
    "        distance = euclideanDistance(points[i], points[j])\n",
    "        distances.append(distance)\n",
    "\n",
    "if distances:\n",
    "    min_distance = min(distances)\n",
    "    print(\"Minimum mesafe:\", min_distance)\n",
    "else:\n",
    "    print(\"Yeterli nokta sağlanmadı.\")"
   ]
  }
 ],
 "metadata": {
  "kernelspec": {
   "display_name": "Python 3 (ipykernel)",
   "language": "python",
   "name": "python3"
  },
  "language_info": {
   "codemirror_mode": {
    "name": "ipython",
    "version": 3
   },
   "file_extension": ".py",
   "mimetype": "text/x-python",
   "name": "python",
   "nbconvert_exporter": "python",
   "pygments_lexer": "ipython3",
   "version": "3.11.5"
  }
 },
 "nbformat": 4,
 "nbformat_minor": 5
}
